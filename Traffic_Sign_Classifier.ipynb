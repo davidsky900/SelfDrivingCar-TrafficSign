{
 "cells": [
  {
   "cell_type": "markdown",
   "metadata": {},
   "source": [
    "# Self-Driving Car Engineer Nanodegree\n",
    "\n",
    "## Deep Learning\n",
    "\n",
    "## Project: Build a Traffic Sign Recognition Classifier\n",
    "\n",
    "In this notebook, a template is provided for you to implement your functionality in stages, which is required to successfully complete this project. If additional code is required that cannot be included in the notebook, be sure that the Python code is successfully imported and included in your submission if necessary. \n",
    "\n",
    "> **Note**: Once you have completed all of the code implementations, you need to finalize your work by exporting the iPython Notebook as an HTML document. Before exporting the notebook to html, all of the code cells need to have been run so that reviewers can see the final implementation and output. You can then export the notebook by using the menu above and navigating to  \\n\",\n",
    "    \"**File -> Download as -> HTML (.html)**. Include the finished document along with this notebook as your submission. \n",
    "\n",
    "In addition to implementing code, there is a writeup to complete. The writeup should be completed in a separate file, which can be either a markdown file or a pdf document. There is a [write up template](https://github.com/udacity/CarND-Traffic-Sign-Classifier-Project/blob/master/writeup_template.md) that can be used to guide the writing process. Completing the code template and writeup template will cover all of the [rubric points](https://review.udacity.com/#!/rubrics/481/view) for this project.\n",
    "\n",
    "The [rubric](https://review.udacity.com/#!/rubrics/481/view) contains \"Stand Out Suggestions\" for enhancing the project beyond the minimum requirements. The stand out suggestions are optional. If you decide to pursue the \"stand out suggestions\", you can include the code in this Ipython notebook and also discuss the results in the writeup file.\n",
    "\n",
    "\n",
    ">**Note:** Code and Markdown cells can be executed using the **Shift + Enter** keyboard shortcut. In addition, Markdown cells can be edited by typically double-clicking the cell to enter edit mode."
   ]
  },
  {
   "cell_type": "markdown",
   "metadata": {},
   "source": [
    "---\n",
    "## Step 0: Load The Data"
   ]
  },
  {
   "cell_type": "code",
   "execution_count": 1,
   "metadata": {
    "collapsed": true
   },
   "outputs": [],
   "source": [
    "## Download and upzip data set, only need to be done once\n",
    "## download \n",
    "# curl -O https://d17h27t6h515a5.cloudfront.net/topher/2017/February/5898cd6f_traffic-signs-data/traffic-signs-data.zip\n",
    "\n",
    "## unzip\n",
    "# upzip traffic-signs-data.zip"
   ]
  },
  {
   "cell_type": "code",
   "execution_count": 2,
   "metadata": {},
   "outputs": [],
   "source": [
    "## Import relavent libariries\n",
    "import pickle\n",
    "import numpy as np\n",
    "import pandas as pd\n",
    "import cv2\n",
    "import tensorflow as tf\n",
    "import time\n",
    "import scipy.ndimage\n",
    "import matplotlib.pyplot as plt\n",
    "from tensorflow.contrib.layers import flatten\n",
    "from sklearn.utils import shuffle\n",
    "%matplotlib inline"
   ]
  },
  {
   "cell_type": "code",
   "execution_count": 3,
   "metadata": {
    "collapsed": true
   },
   "outputs": [],
   "source": [
    "## Load pickled data, read training, validating and testing data\n",
    "training_file = 'train.p'\n",
    "validation_file = 'valid.p'\n",
    "testing_file = 'test.p'\n",
    "\n",
    "with open(training_file, mode='rb') as f:\n",
    "    train = pickle.load(f)\n",
    "with open(validation_file, mode='rb') as f:\n",
    "    valid = pickle.load(f)\n",
    "with open(testing_file, mode='rb') as f:\n",
    "    test = pickle.load(f)\n",
    "    \n",
    "X_train, y_train = train['features'], train['labels']\n",
    "X_valid, y_valid = valid['features'], valid['labels']\n",
    "X_test, y_test = test['features'], test['labels']\n",
    "\n",
    "# Read signData\n",
    "sign_file = 'signnames.csv'\n",
    "\n",
    "with open(sign_file, mode = 'r') as f:\n",
    "    signData = pd.read_csv(f)"
   ]
  },
  {
   "cell_type": "markdown",
   "metadata": {},
   "source": [
    "---\n",
    "\n",
    "## Step 1: Dataset Summary & Exploration\n",
    "\n",
    "The pickled data is a dictionary with 4 key/value pairs:\n",
    "\n",
    "- `'features'` is a 4D array containing raw pixel data of the traffic sign images, (num examples, width, height, channels).\n",
    "- `'labels'` is a 1D array containing the label/class id of the traffic sign. The file `signnames.csv` contains id -> name mappings for each id.\n",
    "- `'sizes'` is a list containing tuples, (width, height) representing the original width and height the image.\n",
    "- `'coords'` is a list containing tuples, (x1, y1, x2, y2) representing coordinates of a bounding box around the sign in the image. **THESE COORDINATES ASSUME THE ORIGINAL IMAGE. THE PICKLED DATA CONTAINS RESIZED VERSIONS (32 by 32) OF THESE IMAGES**"
   ]
  },
  {
   "cell_type": "markdown",
   "metadata": {},
   "source": [
    "### 1. 1 Provide a Basic Summary of the Data Set Using Python, Numpy and/or Pandas"
   ]
  },
  {
   "cell_type": "code",
   "execution_count": 4,
   "metadata": {},
   "outputs": [
    {
     "name": "stdout",
     "output_type": "stream",
     "text": [
      "Number of training examples = 34799\n",
      "Number of validation examples = 4410\n",
      "Number of testing examples = 12630\n",
      "Image data shape = (32, 32)\n",
      "Number of classes in sign system = 43\n",
      "Number of classes in training data = 43\n",
      "Number of classes in validating data = 43\n",
      "Number of classes in testing data = 43\n"
     ]
    }
   ],
   "source": [
    "## Examine basics of data set\n",
    "\n",
    "# Number of training examples\n",
    "n_train = X_train.shape[0]\n",
    "\n",
    "# Number of validation examples\n",
    "n_validation = X_valid.shape[0]\n",
    "\n",
    "# Number of testing examples.\n",
    "n_test = X_test.shape[0]\n",
    "\n",
    "# Shape of an traffic sign image\n",
    "image_shape = X_train.shape[1:3]\n",
    "\n",
    "# Number unique classes/labels there are in the dataset.\n",
    "n_classes = signData.shape[0]\n",
    "\n",
    "# number for class, counts for training data'\n",
    "trainClass, trainIdx, trainCounts = np.unique(y_train, return_index = True, return_counts = True)\n",
    "valiClass, valiCounts = np.unique(y_valid, return_counts = True)\n",
    "testClass, testCounts = np.unique(y_test, return_counts = True)\n",
    "\n",
    "print(\"Number of training examples =\", n_train)\n",
    "print(\"Number of validation examples =\", n_validation)\n",
    "print(\"Number of testing examples =\", n_test)\n",
    "print(\"Image data shape =\", image_shape)\n",
    "print(\"Number of classes in sign system =\", n_classes)\n",
    "print(\"Number of classes in training data =\", trainClass.shape[0])\n",
    "print(\"Number of classes in validating data =\", valiClass.shape[0])\n",
    "print(\"Number of classes in testing data =\", testClass.shape[0])"
   ]
  },
  {
   "cell_type": "markdown",
   "metadata": {},
   "source": [
    "### 1. 2 Include an exploratory visualization of the dataset\n",
    "Visualize the German Traffic Signs Dataset using the pickled file(s)."
   ]
  },
  {
   "cell_type": "code",
   "execution_count": 5,
   "metadata": {},
   "outputs": [
    {
     "data": {
      "image/png": "[encoded data removed]",
      "text/plain": [
       "<matplotlib.figure.Figure at 0x124549400>"
      ]
     },
     "metadata": {},
     "output_type": "display_data"
    },
    {
     "name": "stdout",
     "output_type": "stream",
     "text": [
      "0                                  Speed limit (20km/h)\n",
      "1                                  Speed limit (30km/h)\n",
      "2                                  Speed limit (50km/h)\n",
      "3                                  Speed limit (60km/h)\n",
      "4                                  Speed limit (70km/h)\n",
      "5                                  Speed limit (80km/h)\n",
      "6                           End of speed limit (80km/h)\n",
      "7                                 Speed limit (100km/h)\n",
      "8                                 Speed limit (120km/h)\n",
      "9                                            No passing\n",
      "10         No passing for vehicles over 3.5 metric tons\n",
      "11                Right-of-way at the next intersection\n",
      "12                                        Priority road\n",
      "13                                                Yield\n",
      "14                                                 Stop\n",
      "15                                          No vehicles\n",
      "16             Vehicles over 3.5 metric tons prohibited\n",
      "17                                             No entry\n",
      "18                                      General caution\n",
      "19                          Dangerous curve to the left\n",
      "20                         Dangerous curve to the right\n",
      "21                                         Double curve\n",
      "22                                           Bumpy road\n",
      "23                                        Slippery road\n",
      "24                            Road narrows on the right\n",
      "25                                            Road work\n",
      "26                                      Traffic signals\n",
      "27                                          Pedestrians\n",
      "28                                    Children crossing\n",
      "29                                    Bicycles crossing\n",
      "30                                   Beware of ice/snow\n",
      "31                                Wild animals crossing\n",
      "32                  End of all speed and passing limits\n",
      "33                                     Turn right ahead\n",
      "34                                      Turn left ahead\n",
      "35                                           Ahead only\n",
      "36                                 Go straight or right\n",
      "37                                  Go straight or left\n",
      "38                                           Keep right\n",
      "39                                            Keep left\n",
      "40                                 Roundabout mandatory\n",
      "41                                    End of no passing\n",
      "42    End of no passing by vehicles over 3.5 metric ...\n",
      "Name: SignName, dtype: object\n"
     ]
    }
   ],
   "source": [
    "## Plot the distributions of classes in each data set\n",
    "ax = plt.figure(figsize=(15,5))\n",
    "barW = 0.3\n",
    "plt.bar(trainClass - barW, trainCounts, width = barW, align = 'center')\n",
    "plt.bar(valiClass, valiCounts, width = barW, align = 'center')\n",
    "plt.bar(testClass + barW, testCounts, width = barW, align = 'center')\n",
    "plt.xlabel('Class')\n",
    "plt.ylabel('Number of examples')\n",
    "plt.legend(['Train','Vali','Test'])\n",
    "plt.show()\n",
    "ax.savefig('examples/DataSetVisual.png')\n",
    "\n",
    "print(signData['SignName'])"
   ]
  },
  {
   "cell_type": "code",
   "execution_count": null,
   "metadata": {
    "collapsed": true
   },
   "outputs": [],
   "source": [
    "## Plot individual examples in each class in training data\n",
    "fig = plt.figure(figsize=(12,8))\n",
    "for idxClass, count, idxStart in zip(trainClass,trainCounts,trainIdx):\n",
    "    idxRnd = np.random.randint(idxStart, idxStart + count, 1)\n",
    "    ax = fig.add_subplot(5, 10, idxClass+1)\n",
    "    plt.imshow(X_train[idxRnd].squeeze())\n",
    "plt.savefig('examples/DataSetExamples.png')"
   ]
  },
  {
   "cell_type": "code",
   "execution_count": null,
   "metadata": {
    "collapsed": true
   },
   "outputs": [],
   "source": [
    "## Plot randomly selected examples in each class in training data\n",
    "def plotData(X,y,signData):\n",
    "    Class, Idx, Counts = np.unique(y, return_index = True, return_counts = True)\n",
    "    nDemo = 10\n",
    "    for idxClass, count, idxStart in zip(Class,Counts,Idx):\n",
    "        print('Class = ',idxClass,',',signData.SignName[idxClass], ',',count,' examples')\n",
    "        fig = plt.figure(figsize=(nDemo,2))\n",
    "        idxRnd = np.random.randint(idxStart, idxStart + count, nDemo)\n",
    "        for j in range(1, nDemo):\n",
    "            ax = fig.add_subplot(1, nDemo, j)\n",
    "            ax.imshow(X[idxRnd[j]])\n",
    "        plt.show()\n",
    "\n",
    "plotData(X_train,y_train,signData)"
   ]
  },
  {
   "cell_type": "markdown",
   "metadata": {},
   "source": [
    "----\n",
    "\n",
    "## Step 2: Design and Test a Model Architecture\n",
    "\n",
    "Design and implement a deep learning model that learns to recognize traffic signs. Train and test your model on the [German Traffic Sign Dataset](http://benchmark.ini.rub.de/?section=gtsrb&subsection=dataset).\n",
    "\n",
    "With the LeNet-5 solution from the lecture, you should expect a validation set accuracy of about 0.89. \n",
    "\n",
    "To meet specifications, the validation set accuracy will need to be at least 0.93.\n",
    "\n",
    "There are various aspects to consider when thinking about this problem:\n",
    "\n",
    "- Neural network architecture (is the network over or underfitting?)\n",
    "- Play around preprocessing techniques (normalization, rgb to grayscale, etc)\n",
    "- Number of examples per label (some have more than others).\n",
    "- Generate fake data.\n",
    "\n",
    "References:\n",
    "[LeCun](http://yann.lecun.com/exdb/publis/pdf/sermanet-ijcnn-11.pdf)."
   ]
  },
  {
   "cell_type": "markdown",
   "metadata": {},
   "source": [
    "### 2. 1 Pre-process the Data Set\n",
    "Pre-processing techniques used: Histogram equalization, grayscale, normalizatin"
   ]
  },
  {
   "cell_type": "code",
   "execution_count": 6,
   "metadata": {
    "collapsed": true
   },
   "outputs": [],
   "source": [
    "## Define parameters for pre-processing\n",
    "opt = {'gamma': 1.5, 'gray': True}"
   ]
  },
  {
   "cell_type": "code",
   "execution_count": 7,
   "metadata": {
    "collapsed": true
   },
   "outputs": [],
   "source": [
    "## Define pipeline of pre-process data, followed with helper functions\n",
    "def preProcess(X, y, opt):\n",
    "    n = X.shape[0]\n",
    "    dim = np.asarray(X.shape)\n",
    "    gamma = opt['gamma']\n",
    "    if opt['gray'] == True:\n",
    "        dim[3] = 1\n",
    "    X_pre = np.zeros(dim,dtype = np.float32)\n",
    "    for i in range(0, n):\n",
    "        xTemp = X[i]\n",
    "        xTemp = gamma_correction(xTemp,gamma)\n",
    "        xTemp = hist_equalization(xTemp)\n",
    "        if opt['gray'] == True:\n",
    "            xTemp = rgb2gray(xTemp)\n",
    "        xTemp = scaleDown(xTemp)\n",
    "        if opt['gray'] == True:\n",
    "            X_pre[i] = xTemp[:,:,np.newaxis]\n",
    "        else:\n",
    "            X_pre[i] = xTemp        \n",
    "    return X_pre, y\n",
    "\n",
    "def scaleDown(img):\n",
    "    return np.float32(img/255)\n",
    "#     return np.float32((img - 128)/128)\n",
    "\n",
    "def scaleUp(img):\n",
    "    return np.uint8(img*255)\n",
    "#     return np.uint8(img*128 + 128)\n",
    "\n",
    "def gamma_correction(img,gamma):\n",
    "    img = img/255\n",
    "    img = cv2.pow(img,1/gamma)\n",
    "    return np.uint8(img*255)\n",
    "\n",
    "def hist_equalization(img):\n",
    "    # hist equal in YUV space\n",
    "    imgYUV = cv2.cvtColor(img, cv2.COLOR_RGB2YUV)\n",
    "    # equalize the histogram of the Y channel\n",
    "    imgYUV[:,:,0] = cv2.equalizeHist(imgYUV[:,:,0])\n",
    "    # convert the YUV image back to RGB format\n",
    "    imgOut = cv2.cvtColor(imgYUV, cv2.COLOR_YUV2RGB)\n",
    "    return imgOut\n",
    "\n",
    "def rgb2gray(img):\n",
    "    return cv2.cvtColor(img, cv2.COLOR_RGB2GRAY)\n",
    "\n",
    "def rgb2yuv(img):\n",
    "    return cv2.cvtColor(img,cv2.COLOR_RGB2YUV)\n"
   ]
  },
  {
   "cell_type": "code",
   "execution_count": 8,
   "metadata": {
    "collapsed": true
   },
   "outputs": [],
   "source": [
    "## Examine the pre-processed data\n",
    "def plotDataPre(X, X_pre, y, signData, opt):\n",
    "    Class, Idx, Counts = np.unique(y, return_index = True, return_counts = True)\n",
    "    nDemo = 10\n",
    "    for idxClass, count, idxStart in zip(Class,Counts,Idx):\n",
    "        print('Class = ',idxClass,',',signData.SignName[idxClass], ',',count,' examples')\n",
    "        fig = plt.figure(figsize=(nDemo,2))\n",
    "        idxRnd = np.random.randint(idxStart, idxStart + count, nDemo)\n",
    "        for j in range(1, nDemo):\n",
    "            ax = fig.add_subplot(2, nDemo, j)\n",
    "            ax.title.set_text(str(idxRnd[j]))  \n",
    "            ax.imshow(X[idxRnd[j]])\n",
    "            ax = fig.add_subplot(2, nDemo, j + nDemo)\n",
    "            if opt['gray'] == True:\n",
    "                ax.imshow(X_pre[idxRnd[j]].squeeze(), cmap = 'gray')\n",
    "            else:\n",
    "                ax.imshow(X_pre[idxRnd[j]])\n",
    "        plt.show()\n",
    "        \n",
    "def plotDemoPre(x,idx):\n",
    "    plt.figure(figsize=(8,2));\n",
    "    plt.subplot(141); plt.imshow(x.squeeze());\n",
    "    plt.title('Original ' + str(idx))\n",
    "    xTemp = gamma_correction(x,2)\n",
    "    plt.subplot(142); plt.imshow(xTemp)\n",
    "    plt.title('Gamma correction')\n",
    "    xTemp = hist_equalization(xTemp)\n",
    "    plt.subplot(143); plt.imshow(xTemp)\n",
    "    plt.title('Histogram equal')\n",
    "    xTemp = rgb2gray(xTemp)\n",
    "    plt.subplot(144); plt.imshow(xTemp, cmap = 'gray')\n",
    "    plt.title('Grayscale')\n",
    "    title = 'examples/preProcessEx' + str(idx) +'.png'\n",
    "    plt.savefig(title)\n"
   ]
  },
  {
   "cell_type": "code",
   "execution_count": 9,
   "metadata": {
    "collapsed": true
   },
   "outputs": [],
   "source": [
    "## Pre-process traing, validating and testing data set\n",
    "X_train_pre, y_train_pre = preProcess(X_train, y_train, opt)\n",
    "X_valid_pre, y_valid_pre = preProcess(X_valid, y_valid, opt)\n",
    "X_test_pre, y_test_pre = preProcess(X_test, y_test, opt)\n",
    "\n",
    "X_train_pre.astype(np.float32);\n",
    "X_valid_pre.astype(np.float32);\n",
    "X_test_pre.astype(np.float32);"
   ]
  },
  {
   "cell_type": "code",
   "execution_count": null,
   "metadata": {
    "collapsed": true
   },
   "outputs": [],
   "source": [
    "## Plot individual demo of pre-processing\n",
    "# idxTest = [7774,7991,8109,8150]\n",
    "idxTest = [8109,8150]\n",
    "\n",
    "for i in range(len(idxTest)):\n",
    "    plotDemoPre(X_train[idxTest[i]],idxTest[i])"
   ]
  },
  {
   "cell_type": "code",
   "execution_count": null,
   "metadata": {
    "collapsed": true
   },
   "outputs": [],
   "source": [
    "## Examine all pre-processed training data\n",
    "plotDataPre(X_train, X_train_pre, y_train, signData, opt)"
   ]
  },
  {
   "cell_type": "code",
   "execution_count": null,
   "metadata": {
    "collapsed": true
   },
   "outputs": [],
   "source": [
    "## Examine all pre-processed validation data\n",
    "plotDataPre(X_valid, X_valid_pre, y_valid, signData, opt)"
   ]
  },
  {
   "cell_type": "markdown",
   "metadata": {},
   "source": [
    "### 2.2 Augment data\n",
    "More data are adding by rotating the signs to balance the distribution of class of signs"
   ]
  },
  {
   "cell_type": "code",
   "execution_count": 10,
   "metadata": {
    "collapsed": true
   },
   "outputs": [],
   "source": [
    "## Define parameters\n",
    "optAug = {'angMax':15, 'angMin':-15}"
   ]
  },
  {
   "cell_type": "code",
   "execution_count": 11,
   "metadata": {
    "collapsed": true
   },
   "outputs": [],
   "source": [
    "## Define data augmentation method, followed by helper functions for augmenting data\n",
    "def AugmentData(X,y,optAug):\n",
    "    nClass, nIdx, nCounts = np.unique(y, return_index = True, return_counts = True)\n",
    "    compRatio = (max(nCounts) / nCounts - 1)\n",
    "    compRatio = compRatio.astype(np.int)\n",
    "    addCounts = nCounts * compRatio\n",
    "\n",
    "    dimX = np.asarray(X.shape)\n",
    "    dimY = np.asarray(y.shape)\n",
    "\n",
    "    for i in range(len(addCounts)):\n",
    "        idxS = nIdx[i]\n",
    "        idxE = nIdx[i] + nCounts[i]\n",
    "            \n",
    "        if addCounts[i] != 0:\n",
    "            dimX[0] = addCounts[i]\n",
    "            dimY[0] = addCounts[i]\n",
    "            X_temp = np.zeros(dimX, dtype = np.float32)\n",
    "            y_temp = np.zeros(dimY, dtype = np.uint8)\n",
    "            idxAug = np.random.randint(idxS, idxE, size = addCounts[i])\n",
    "            thetaAug = np.random.randint(optAug['angMin'], optAug['angMax'], size = addCounts[i])\n",
    "            for j in range(idxAug.shape[0]):\n",
    "                X_temp[j,:,:,:] = augRotate(X[idxAug[j]], thetaAug[j])\n",
    "                y_temp[j] = y[idxAug[j]]\n",
    "            X_aug_temp = np.append(X[idxS:idxE], X_temp, axis = 0)\n",
    "            y_aug_temp = np.append(y[idxS:idxE], y_temp, axis = 0)\n",
    "\n",
    "            if i == 0:\n",
    "                X_aug = X_aug_temp\n",
    "                y_aug = y_aug_temp\n",
    "            else:\n",
    "                X_aug = np.append(X_aug, X_aug_temp, axis = 0)\n",
    "                y_aug = np.append(y_aug, y_aug_temp, axis = 0)\n",
    "        else:\n",
    "            if i == 0:\n",
    "                X_aug = X[idxS:idxE]\n",
    "                y_aug = y[idxS:idxE]\n",
    "            else:\n",
    "                X_aug = np.append(X_aug, X[idxS:idxE], axis = 0)\n",
    "                y_aug = np.append(y_aug, y[idxS:idxE], axis = 0)\n",
    "\n",
    "    print('Number of examples before augmentation: ' + str(X.shape[0]))\n",
    "    print('Number of examples after augmentation: ' + str(X_aug.shape[0]))\n",
    "    return X_aug, y_aug\n",
    "\n",
    "def augRotate(x, theta):\n",
    "    xNew = scipy.ndimage.rotate(x, theta, reshape=False)\n",
    "    return xNew\n",
    "\n",
    "def augShift(x, shift):\n",
    "    xNew = scipy.ndimage.shift(x, shift)\n",
    "    return xNew"
   ]
  },
  {
   "cell_type": "code",
   "execution_count": 12,
   "metadata": {
    "collapsed": true
   },
   "outputs": [],
   "source": [
    "## Define plot function\n",
    "def plotDistAug(y, y_aug, label):\n",
    "    augClass, augIdx, augCounts = np.unique(y_aug, return_index = True, return_counts = True)\n",
    "    oriClass, oriIdx, oriCounts = np.unique(y, return_index = True, return_counts = True)\n",
    "    \n",
    "    ax = plt.figure(figsize=(15,5))\n",
    "    barW = 0.4\n",
    "    plt.bar(oriClass - barW, oriCounts, width = barW, align = 'center')\n",
    "    plt.bar(augClass, augCounts, width = barW, align = 'center')\n",
    "    plt.xlabel('Class')\n",
    "    plt.ylabel('Number of ' + label + ' examples')\n",
    "    plt.legend(['Original ' + label + ' set','Augmented ' + label + ' set'])\n",
    "    plt.show()\n",
    "    \n",
    "def plotDataAug(X,y,signData):\n",
    "    Class, Idx, Counts = np.unique(y, return_index = True, return_counts = True)\n",
    "    nDemo = 10\n",
    "    for idxClass, count, idxStart in zip(Class,Counts,Idx):\n",
    "        print('Class = ',idxClass,',',signData.SignName[idxClass], ',',count,' examples')\n",
    "        fig = plt.figure(figsize=(nDemo,2))\n",
    "        idxRnd = np.random.randint(idxStart, idxStart + count, nDemo)\n",
    "        for j in range(1, nDemo):\n",
    "            ax = fig.add_subplot(1, nDemo, j)\n",
    "            ax.imshow(X[idxRnd[j]].squeeze(), cmap = 'gray')\n",
    "        plt.show()\n",
    "\n",
    "def plotDemoAug(x,idx):\n",
    "    x = scaleUp(x)\n",
    "    xAug = augRotate(x[0],10)   \n",
    "    plt.figure(figsize=(4,2));\n",
    "    plt.subplot(121); plt.imshow(x.squeeze(),cmap = 'gray');\n",
    "    plt.title('Pre-processed ' + str(idx))\n",
    "    plt.subplot(122); plt.imshow(xAug.squeeze(),cmap = 'gray');\n",
    "    plt.title('Augmented' + str(idx))\n",
    "    title = 'examples/AugmentedEx' + str(idx) +'.png'\n",
    "    plt.savefig(title)"
   ]
  },
  {
   "cell_type": "code",
   "execution_count": 13,
   "metadata": {},
   "outputs": [
    {
     "name": "stdout",
     "output_type": "stream",
     "text": [
      "For training set\n",
      "Number of examples before augmentation: 34799\n",
      "Number of examples after augmentation: 74217\n",
      "For validation set\n",
      "Number of examples before augmentation: 4410\n",
      "Number of examples after augmentation: 9390\n"
     ]
    }
   ],
   "source": [
    "## Generating additional data\n",
    "print('For training set')\n",
    "X_train_aug, y_train_aug = AugmentData(X_train_pre, y_train_pre, optAug)\n",
    "print('For validation set')\n",
    "X_valid_aug, y_valid_aug = AugmentData(X_valid_pre, y_valid_pre, optAug)"
   ]
  },
  {
   "cell_type": "code",
   "execution_count": null,
   "metadata": {
    "collapsed": true
   },
   "outputs": [],
   "source": [
    "## Plot augmented data distributions\n",
    "plotDistAug(y_train, y_train_aug, 'training')\n",
    "plotDistAug(y_valid, y_valid_aug, 'validation')"
   ]
  },
  {
   "cell_type": "code",
   "execution_count": null,
   "metadata": {
    "collapsed": true
   },
   "outputs": [],
   "source": [
    "## Plot augmented training data\n",
    "plotDataAug(X_train_aug, y_train_aug, signData)"
   ]
  },
  {
   "cell_type": "code",
   "execution_count": null,
   "metadata": {
    "collapsed": true
   },
   "outputs": [],
   "source": [
    "## Plot augmented validation data\n",
    "plotDataAug(X_valid_aug, y_valid_aug, signData)"
   ]
  },
  {
   "cell_type": "code",
   "execution_count": null,
   "metadata": {
    "collapsed": true,
    "scrolled": true
   },
   "outputs": [],
   "source": [
    "## Plot demo of augmented data\n",
    "idxAugDemo = [7991]\n",
    "plotDemoAug(X_train_pre[idxAugDemo],idxAugDemo)"
   ]
  },
  {
   "cell_type": "markdown",
   "metadata": {},
   "source": [
    "### 2. 2 Model Architecture"
   ]
  },
  {
   "cell_type": "code",
   "execution_count": 14,
   "metadata": {
    "collapsed": true
   },
   "outputs": [],
   "source": [
    "## Define model parameters\n",
    "optCNN = {'initMu': 0, 'initStd': 0.1}"
   ]
  },
  {
   "cell_type": "code",
   "execution_count": 15,
   "metadata": {
    "collapsed": true
   },
   "outputs": [],
   "source": [
    "## Define each individual layer\n",
    "def convLayer(x, fSize, stride, inDepth, outDepth, optCNN):\n",
    "    conW = tf.Variable(tf.truncated_normal(shape = (fSize, fSize, inDepth, outDepth), \n",
    "                                            mean = optCNN['initMu'], stddev = optCNN['initStd']))\n",
    "    conB = tf.Variable(tf.zeros(outDepth))\n",
    "    con = tf.nn.conv2d(x, conW, strides = [stride, stride, stride, stride],\n",
    "                      padding = 'VALID') + conB\n",
    "    con = tf.nn.relu(con)\n",
    "    return con\n",
    "\n",
    "def maxPool(x, fSize):\n",
    "    return tf.nn.max_pool(x, ksize = [1, fSize, fSize, 1], strides = [1, fSize, fSize, 1],\n",
    "                         padding = 'VALID')\n",
    "\n",
    "def fullCon(x, inDim, outDim, optCNN):\n",
    "    W = tf.Variable(tf.truncated_normal(shape = (inDim, outDim), mean = optCNN['initMu'], \n",
    "                                       stddev = optCNN['initStd']))\n",
    "    B = tf.Variable(tf.zeros(outDim))\n",
    "    y = tf.matmul(x, W) + B\n",
    "    y = tf.nn.relu(y)\n",
    "    return y"
   ]
  },
  {
   "cell_type": "code",
   "execution_count": 16,
   "metadata": {
    "collapsed": true
   },
   "outputs": [],
   "source": [
    "## Construct full model\n",
    "\n",
    "# # 20 epoch, original training data, 93%\n",
    "def fullModel(x, optCNN):\n",
    "    # input dimension = [32, 32, 1]    \n",
    "    convL1 = convLayer(x, 5, 1, 1, 60, optCNN)\n",
    "    # output dimension = [28, 28, 100]\n",
    "    \n",
    "    maxPool1 = maxPool(convL1, 2)\n",
    "    # output dimension = [14, 14, 100]\n",
    "    \n",
    "    convL2 = convLayer(maxPool1, 5, 1, 60, 120, optCNN)\n",
    "    # output dimension = [10, 10, 150]\n",
    "    \n",
    "    maxPool2 = maxPool(convL2, 2)\n",
    "    # output dimension = [5, 5, 150]\n",
    "    \n",
    "    convL3 = convLayer(maxPool2, 3, 1, 120, 200, optCNN)\n",
    "    # output dimension = [3, 3, 250]\n",
    "    \n",
    "#     maxPool3 = maxPool(convL3, 2)\n",
    "    # output dimension = [, , 250]\n",
    "    \n",
    "    fCon1 = flatten(convL3)\n",
    "    fCon1 = tf.nn.dropout(fCon1, keep_prob)\n",
    "    # output dimension = 3*3*150\n",
    "    \n",
    "    fCon2 = fullCon(fCon1, 3*3*200, 300, optCNN)\n",
    "    # output dimension = 300\n",
    "        \n",
    "    logits = fullCon(fCon2, 300, 43, optCNN)\n",
    "    # output dimension = 43\n",
    "    \n",
    "    return logits"
   ]
  },
  {
   "cell_type": "markdown",
   "metadata": {},
   "source": [
    "### 2.4 Train, Validate and Test the Model"
   ]
  },
  {
   "cell_type": "markdown",
   "metadata": {},
   "source": [
    "A validation set can be used to assess how well the model is performing. A low accuracy on the training and validation\n",
    "sets imply underfitting. A high accuracy on the training set but low accuracy on the validation set implies overfitting."
   ]
  },
  {
   "cell_type": "code",
   "execution_count": 17,
   "metadata": {
    "collapsed": true
   },
   "outputs": [],
   "source": [
    "## Define training parameters\n",
    "optMod = {'epochs': 1, 'batchSize': 128, 'learnRate':0.0005,\n",
    "         'keepRate':0.5, 'dataChoice': 'pre'}\n",
    "\n",
    "if optMod['dataChoice'] == 'aug':\n",
    "    X_train_mod = X_train_aug\n",
    "    y_train_mod = y_train_aug\n",
    "    X_valid_mod = X_valid_aug\n",
    "    y_valid_mod = y_valid_aug\n",
    "elif optMod['dataChoice'] == 'pre':\n",
    "    X_train_mod = X_train_pre\n",
    "    y_train_mod = y_train_pre\n",
    "    X_valid_mod = X_valid_pre\n",
    "    y_valid_mod = y_valid_pre"
   ]
  },
  {
   "cell_type": "code",
   "execution_count": 18,
   "metadata": {
    "collapsed": true
   },
   "outputs": [],
   "source": [
    "## Set up tensor flow training session\n",
    "# Set up place holder for input data\n",
    "x = tf.placeholder(tf.float32, (None, 32, 32, 1))\n",
    "y = tf.placeholder(tf.uint8, (None))\n",
    "one_hot_y = tf.one_hot(y, n_classes)\n",
    "keep_prob = tf.placeholder(tf.float32)\n",
    "\n",
    "logits = fullModel(x, optCNN)\n",
    "cross_entropy = tf.nn.softmax_cross_entropy_with_logits(labels=one_hot_y, logits=logits)\n",
    "loss_operation = tf.reduce_mean(cross_entropy)\n",
    "\n",
    "optimizer = tf.train.AdamOptimizer(learning_rate = optMod['learnRate'])\n",
    "training_operation = optimizer.minimize(loss_operation)"
   ]
  },
  {
   "cell_type": "code",
   "execution_count": 19,
   "metadata": {
    "collapsed": true
   },
   "outputs": [],
   "source": [
    "## Set up tensor flow session to evaluate accuracy and loss\n",
    "correct_prediction = tf.equal(tf.argmax(logits, 1), tf.argmax(one_hot_y, 1))\n",
    "accuracy_operation = tf.reduce_mean(tf.cast(correct_prediction, tf.float32))\n",
    "saver = tf.train.Saver()\n",
    "\n",
    "def evaluate(X_data, y_data, keepRate):\n",
    "    num_examples = len(X_data)\n",
    "    total_accuracy = 0\n",
    "    total_loss = 0\n",
    "#     sess = tf.get_default_session()\n",
    "    for offset in range(0, num_examples, optMod['batchSize']):\n",
    "        batch_x, batch_y = X_data[offset:offset+optMod['batchSize']], y_data[offset:offset+optMod['batchSize']]\n",
    "        [accuracy, loss] = sess.run([accuracy_operation, loss_operation], \n",
    "                                    feed_dict={x: batch_x, y: batch_y, keep_prob: keepRate})\n",
    "        total_accuracy += (accuracy * len(batch_x))\n",
    "        total_loss += (loss * len(batch_x))\n",
    "    return (total_accuracy / num_examples, total_loss / num_examples)"
   ]
  },
  {
   "cell_type": "code",
   "execution_count": 20,
   "metadata": {
    "collapsed": true
   },
   "outputs": [],
   "source": [
    "# Plots history of learning curves for a specific model.\n",
    "def plot_learning_curves(train_loss, valid_loss, train_acc, valid_acc):\n",
    "    \"\"\"\n",
    "    Plots learning curves (loss and accuracy on both training and validation sets).\n",
    "    \"\"\"\n",
    "    epoch = range(1, int(train_loss.shape[0])+1)\n",
    "    curves_figure = plt.figure(figsize = (10, 4))\n",
    "    axis = curves_figure.add_subplot(1, 2, 1)\n",
    "    axis.plot(epoch,train_acc*100)\n",
    "    axis.plot(epoch,valid_acc*100)\n",
    "    axis.legend(['train','valid'])\n",
    "\n",
    "    plt.grid()\n",
    "    plt.legend()\n",
    "    plt.xlabel(\"epoch\")\n",
    "    plt.ylabel(\"accuracy\")\n",
    "    plt.ylim(50, 110.)\n",
    "#     plt.xlim(0, epoch)\n",
    "\n",
    "    axis = curves_figure.add_subplot(1, 2, 2)\n",
    "    axis.plot(epoch,train_loss)\n",
    "    axis.plot(epoch,valid_loss)\n",
    "    axis.legend(['train','valid'])\n",
    "\n",
    "    plt.grid()\n",
    "    plt.legend()\n",
    "    plt.xlabel(\"epoch\")\n",
    "    plt.ylabel(\"loss\")\n",
    "    plt.ylim(0.001, 1) \n",
    "#     plt.xlim(0, epoch)\n",
    "#     plt.yscale(\"log\")"
   ]
  },
  {
   "cell_type": "code",
   "execution_count": 21,
   "metadata": {},
   "outputs": [
    {
     "name": "stdout",
     "output_type": "stream",
     "text": [
      "Training...\n",
      "\n",
      "EPOCH 1, time used = 362.2 sec\n",
      "Training accuracy = 78.5%, training loss = 0.906\n",
      "Validation accuracy = 73.0%, validation loss = 1.117\n",
      "\n",
      "Model saved\n"
     ]
    }
   ],
   "source": [
    "## Train model and compute training and cross-validation error\n",
    "with tf.Session() as sess:\n",
    "    sess.run(tf.global_variables_initializer())\n",
    "    num_examples = X_train_mod.shape[0]\n",
    "    \n",
    "    train_loss_history = np.empty([0], dtype = np.float32)\n",
    "    train_accuracy_history = np.empty([0], dtype = np.float32)\n",
    "    valid_loss_history = np.empty([0], dtype = np.float32)\n",
    "    valid_accuracy_history = np.empty([0], dtype = np.float32)\n",
    "    \n",
    "    print(\"Training...\")\n",
    "    print()\n",
    "    for i in range(optMod['epochs']):\n",
    "        timeStart = time.time()\n",
    "        X_train_rand, y_train_rand = shuffle(X_train_mod, y_train_mod)\n",
    "\n",
    "        for offset in range(0, num_examples, optMod['batchSize']):\n",
    "            end = offset + optMod['batchSize']\n",
    "            batch_x, batch_y = X_train_rand[offset:end], y_train_rand[offset:end]\n",
    "            sess.run(training_operation, feed_dict={x: batch_x, y: batch_y, keep_prob: optMod['keepRate']})\n",
    "        \n",
    "        [train_accuracy, train_loss] = evaluate(X_train_mod, y_train_mod, 1)\n",
    "        [valid_accuracy, valid_loss] = evaluate(X_valid_mod, y_valid_mod, 1)\n",
    "        \n",
    "        valid_loss_history = np.append(valid_loss_history, [valid_loss])\n",
    "        valid_accuracy_history = np.append(valid_accuracy_history, [valid_accuracy])\n",
    "        train_loss_history = np.append(train_loss_history, [train_loss])\n",
    "        train_accuracy_history = np.append(train_accuracy_history, [train_accuracy])\n",
    "        \n",
    "        timeElapsed = time.time() - timeStart\n",
    "        print(\"EPOCH %.0f, time used = %.1f sec\" % (i+1, timeElapsed))\n",
    "        print(\"Training accuracy = %.1f%%, training loss = %.3f\" % (100*train_accuracy, train_loss))\n",
    "        print(\"Validation accuracy = %.1f%%, validation loss = %.3f\" % (100*valid_accuracy, valid_loss))\n",
    "        print()\n",
    "        \n",
    "    saver.save(sess, './TrafficSignModel')\n",
    "    print(\"Model saved\")"
   ]
  },
  {
   "cell_type": "code",
   "execution_count": 29,
   "metadata": {
    "scrolled": false
   },
   "outputs": [
    {
     "name": "stderr",
     "output_type": "stream",
     "text": [
      "/Users/yichen/anaconda/envs/carnd-term1/lib/python3.5/site-packages/matplotlib/axes/_axes.py:545: UserWarning: No labelled objects found. Use label='...' kwarg on individual plots.\n",
      "  warnings.warn(\"No labelled objects found. \"\n"
     ]
    },
    {
     "data": {
      "image/png": "[encoded data removed]",
      "text/plain": [
       "<matplotlib.figure.Figure at 0x125e479b0>"
      ]
     },
     "metadata": {},
     "output_type": "display_data"
    }
   ],
   "source": [
    "## Monitoring training and validation accuracy\n",
    "plot_learning_curves(train_loss_history, valid_loss_history, train_accuracy_history, valid_accuracy_history)"
   ]
  },
  {
   "cell_type": "code",
   "execution_count": 30,
   "metadata": {},
   "outputs": [
    {
     "ename": "TypeError",
     "evalue": "unhashable type: 'numpy.ndarray'",
     "output_type": "error",
     "traceback": [
      "\u001b[0;31m---------------------------------------------------------------------------\u001b[0m",
      "\u001b[0;31mTypeError\u001b[0m                                 Traceback (most recent call last)",
      "\u001b[0;32m<ipython-input-30-6847dc4e3452>\u001b[0m in \u001b[0;36m<module>\u001b[0;34m()\u001b[0m\n\u001b[1;32m      1\u001b[0m \u001b[0;32mwith\u001b[0m \u001b[0mtf\u001b[0m\u001b[0;34m.\u001b[0m\u001b[0mSession\u001b[0m\u001b[0;34m(\u001b[0m\u001b[0;34m)\u001b[0m \u001b[0;32mas\u001b[0m \u001b[0msess\u001b[0m\u001b[0;34m:\u001b[0m\u001b[0;34m\u001b[0m\u001b[0m\n\u001b[1;32m      2\u001b[0m     \u001b[0msaver\u001b[0m\u001b[0;34m.\u001b[0m\u001b[0mrestore\u001b[0m\u001b[0;34m(\u001b[0m\u001b[0msess\u001b[0m\u001b[0;34m,\u001b[0m\u001b[0mtf\u001b[0m\u001b[0;34m.\u001b[0m\u001b[0mtrain\u001b[0m\u001b[0;34m.\u001b[0m\u001b[0mlatest_checkpoint\u001b[0m\u001b[0;34m(\u001b[0m\u001b[0;34m'./'\u001b[0m\u001b[0;34m)\u001b[0m\u001b[0;34m)\u001b[0m\u001b[0;34m\u001b[0m\u001b[0m\n\u001b[0;32m----> 3\u001b[0;31m     \u001b[0;34m[\u001b[0m\u001b[0mtest_accuracy\u001b[0m\u001b[0;34m,\u001b[0m \u001b[0mtest_loss\u001b[0m\u001b[0;34m]\u001b[0m \u001b[0;34m=\u001b[0m \u001b[0mevaluate\u001b[0m\u001b[0;34m(\u001b[0m\u001b[0mX_test_pre\u001b[0m\u001b[0;34m,\u001b[0m \u001b[0my_test_pre\u001b[0m\u001b[0;34m,\u001b[0m \u001b[0;36m1\u001b[0m\u001b[0;34m)\u001b[0m\u001b[0;34m\u001b[0m\u001b[0m\n\u001b[0m\u001b[1;32m      4\u001b[0m     \u001b[0mprint\u001b[0m\u001b[0;34m(\u001b[0m\u001b[0;34m\"Testing accuracy = %.1f%%, testing loss = %.3f\"\u001b[0m \u001b[0;34m%\u001b[0m \u001b[0;34m(\u001b[0m\u001b[0;36m100\u001b[0m\u001b[0;34m*\u001b[0m\u001b[0mtest_accuracy\u001b[0m\u001b[0;34m,\u001b[0m \u001b[0mtest_loss\u001b[0m\u001b[0;34m)\u001b[0m\u001b[0;34m)\u001b[0m\u001b[0;34m\u001b[0m\u001b[0m\n",
      "\u001b[0;32m<ipython-input-19-5b5e7f1b4440>\u001b[0m in \u001b[0;36mevaluate\u001b[0;34m(X_data, y_data, keepRate)\u001b[0m\n\u001b[1;32m     12\u001b[0m         \u001b[0mbatch_x\u001b[0m\u001b[0;34m,\u001b[0m \u001b[0mbatch_y\u001b[0m \u001b[0;34m=\u001b[0m \u001b[0mX_data\u001b[0m\u001b[0;34m[\u001b[0m\u001b[0moffset\u001b[0m\u001b[0;34m:\u001b[0m\u001b[0moffset\u001b[0m\u001b[0;34m+\u001b[0m\u001b[0moptMod\u001b[0m\u001b[0;34m[\u001b[0m\u001b[0;34m'batchSize'\u001b[0m\u001b[0;34m]\u001b[0m\u001b[0;34m]\u001b[0m\u001b[0;34m,\u001b[0m \u001b[0my_data\u001b[0m\u001b[0;34m[\u001b[0m\u001b[0moffset\u001b[0m\u001b[0;34m:\u001b[0m\u001b[0moffset\u001b[0m\u001b[0;34m+\u001b[0m\u001b[0moptMod\u001b[0m\u001b[0;34m[\u001b[0m\u001b[0;34m'batchSize'\u001b[0m\u001b[0;34m]\u001b[0m\u001b[0;34m]\u001b[0m\u001b[0;34m\u001b[0m\u001b[0m\n\u001b[1;32m     13\u001b[0m         [accuracy, loss] = sess.run([accuracy_operation, loss_operation], \n\u001b[0;32m---> 14\u001b[0;31m                                     feed_dict={x: batch_x, y: batch_y, keep_prob: keepRate})\n\u001b[0m\u001b[1;32m     15\u001b[0m         \u001b[0mtotal_accuracy\u001b[0m \u001b[0;34m+=\u001b[0m \u001b[0;34m(\u001b[0m\u001b[0maccuracy\u001b[0m \u001b[0;34m*\u001b[0m \u001b[0mlen\u001b[0m\u001b[0;34m(\u001b[0m\u001b[0mbatch_x\u001b[0m\u001b[0;34m)\u001b[0m\u001b[0;34m)\u001b[0m\u001b[0;34m\u001b[0m\u001b[0m\n\u001b[1;32m     16\u001b[0m         \u001b[0mtotal_loss\u001b[0m \u001b[0;34m+=\u001b[0m \u001b[0;34m(\u001b[0m\u001b[0mloss\u001b[0m \u001b[0;34m*\u001b[0m \u001b[0mlen\u001b[0m\u001b[0;34m(\u001b[0m\u001b[0mbatch_x\u001b[0m\u001b[0;34m)\u001b[0m\u001b[0;34m)\u001b[0m\u001b[0;34m\u001b[0m\u001b[0m\n",
      "\u001b[0;31mTypeError\u001b[0m: unhashable type: 'numpy.ndarray'"
     ]
    }
   ],
   "source": [
    "with tf.Session() as sess:\n",
    "    saver.restore(sess,tf.train.latest_checkpoint('./'))\n",
    "    [test_accuracy, test_loss] = evaluate(X_test_pre, y_test_pre, 1)\n",
    "    print(\"Testing accuracy = %.1f%%, testing loss = %.3f\" % (100*test_accuracy, test_loss))"
   ]
  },
  {
   "cell_type": "markdown",
   "metadata": {},
   "source": [
    "---\n",
    "\n",
    "## Step 3: Test a Model on New Images\n",
    "\n",
    "To give yourself more insight into how your model is working, download at least five pictures of German traffic signs from the web and use your model to predict the traffic sign type.\n",
    "\n",
    "You may find `signnames.csv` useful as it contains mappings from the class id (integer) to the actual sign name."
   ]
  },
  {
   "cell_type": "markdown",
   "metadata": {},
   "source": [
    "### Load and Output the Images"
   ]
  },
  {
   "cell_type": "code",
   "execution_count": 25,
   "metadata": {},
   "outputs": [
    {
     "data": {
      "text/plain": [
       "['.DS_Store',\n",
       " '00000.ppm',\n",
       " '00001.ppm',\n",
       " '00003.ppm',\n",
       " '00004.ppm',\n",
       " '00005.ppm',\n",
       " '00006.ppm',\n",
       " '00007.ppm',\n",
       " '00008.ppm',\n",
       " '00009.ppm']"
      ]
     },
     "execution_count": 25,
     "metadata": {},
     "output_type": "execute_result"
    }
   ],
   "source": [
    "lists"
   ]
  },
  {
   "cell_type": "code",
   "execution_count": 27,
   "metadata": {},
   "outputs": [
    {
     "data": {
      "image/png": "[encoded data removed]",
      "text/plain": [
       "<matplotlib.figure.Figure at 0x1258bb518>"
      ]
     },
     "metadata": {},
     "output_type": "display_data"
    }
   ],
   "source": [
    "## Load the images and plot them here.\n",
    "import os\n",
    "import PIL\n",
    "from PIL import Image\n",
    "lists = os.listdir(\"newTest/\")\n",
    "\n",
    "y_new = np.asarray([16,1,33,11,38,18,12,25,35], dtype=np.uint8)\n",
    "X_new = np.empty([0, 32, 32, 3], dtype = np.uint8)\n",
    "i = 0\n",
    "plt.figure(figsize=(15,3))\n",
    "for list in lists[1:end]:\n",
    "    image = Image.open('newTest/' + list)\n",
    "    plt.subplot(1,10,i+1)\n",
    "    image = image.resize((32,32))\n",
    "    plt.imshow(image)\n",
    "    x = np.asarray(image, dtype=np.uint8)\n",
    "    plt.title('Class ' + str(y_new[i]))\n",
    "    x = x[np.newaxis]\n",
    "    X_new = np.append(X_new, x, axis = 0)\n",
    "    i = i + 1"
   ]
  },
  {
   "cell_type": "markdown",
   "metadata": {},
   "source": [
    "### Predict the Sign Type for New Images and Analyze Performance"
   ]
  },
  {
   "cell_type": "code",
   "execution_count": 31,
   "metadata": {},
   "outputs": [
    {
     "ename": "TypeError",
     "evalue": "unhashable type: 'numpy.ndarray'",
     "output_type": "error",
     "traceback": [
      "\u001b[0;31m---------------------------------------------------------------------------\u001b[0m",
      "\u001b[0;31mTypeError\u001b[0m                                 Traceback (most recent call last)",
      "\u001b[0;32m<ipython-input-31-28bb4f6978fd>\u001b[0m in \u001b[0;36m<module>\u001b[0;34m()\u001b[0m\n\u001b[1;32m      4\u001b[0m \u001b[0;32mwith\u001b[0m \u001b[0mtf\u001b[0m\u001b[0;34m.\u001b[0m\u001b[0mSession\u001b[0m\u001b[0;34m(\u001b[0m\u001b[0;34m)\u001b[0m \u001b[0;32mas\u001b[0m \u001b[0msess\u001b[0m\u001b[0;34m:\u001b[0m\u001b[0;34m\u001b[0m\u001b[0m\n\u001b[1;32m      5\u001b[0m     \u001b[0msaver\u001b[0m\u001b[0;34m.\u001b[0m\u001b[0mrestore\u001b[0m\u001b[0;34m(\u001b[0m\u001b[0msess\u001b[0m\u001b[0;34m,\u001b[0m \u001b[0mtf\u001b[0m\u001b[0;34m.\u001b[0m\u001b[0mtrain\u001b[0m\u001b[0;34m.\u001b[0m\u001b[0mlatest_checkpoint\u001b[0m\u001b[0;34m(\u001b[0m\u001b[0;34m'.'\u001b[0m\u001b[0;34m)\u001b[0m\u001b[0;34m)\u001b[0m\u001b[0;34m\u001b[0m\u001b[0m\n\u001b[0;32m----> 6\u001b[0;31m     \u001b[0;34m[\u001b[0m\u001b[0mtestNew_accuracy\u001b[0m\u001b[0;34m,\u001b[0m \u001b[0mtestNew_loss\u001b[0m\u001b[0;34m]\u001b[0m \u001b[0;34m=\u001b[0m \u001b[0mevaluate\u001b[0m\u001b[0;34m(\u001b[0m\u001b[0mX_new_pre\u001b[0m\u001b[0;34m,\u001b[0m \u001b[0my_new_pre\u001b[0m\u001b[0;34m,\u001b[0m \u001b[0;36m1\u001b[0m\u001b[0;34m)\u001b[0m\u001b[0;34m\u001b[0m\u001b[0m\n\u001b[0m\u001b[1;32m      7\u001b[0m     \u001b[0mprint\u001b[0m\u001b[0;34m(\u001b[0m\u001b[0;34m\"New festing accuracy = %.1f%%, testing loss = %.3f\"\u001b[0m \u001b[0;34m%\u001b[0m \u001b[0;34m(\u001b[0m\u001b[0;36m100\u001b[0m\u001b[0;34m*\u001b[0m\u001b[0mtestNew_accuracy\u001b[0m\u001b[0;34m,\u001b[0m \u001b[0mtestNew_loss\u001b[0m\u001b[0;34m)\u001b[0m\u001b[0;34m)\u001b[0m\u001b[0;34m\u001b[0m\u001b[0m\n",
      "\u001b[0;32m<ipython-input-19-5b5e7f1b4440>\u001b[0m in \u001b[0;36mevaluate\u001b[0;34m(X_data, y_data, keepRate)\u001b[0m\n\u001b[1;32m     12\u001b[0m         \u001b[0mbatch_x\u001b[0m\u001b[0;34m,\u001b[0m \u001b[0mbatch_y\u001b[0m \u001b[0;34m=\u001b[0m \u001b[0mX_data\u001b[0m\u001b[0;34m[\u001b[0m\u001b[0moffset\u001b[0m\u001b[0;34m:\u001b[0m\u001b[0moffset\u001b[0m\u001b[0;34m+\u001b[0m\u001b[0moptMod\u001b[0m\u001b[0;34m[\u001b[0m\u001b[0;34m'batchSize'\u001b[0m\u001b[0;34m]\u001b[0m\u001b[0;34m]\u001b[0m\u001b[0;34m,\u001b[0m \u001b[0my_data\u001b[0m\u001b[0;34m[\u001b[0m\u001b[0moffset\u001b[0m\u001b[0;34m:\u001b[0m\u001b[0moffset\u001b[0m\u001b[0;34m+\u001b[0m\u001b[0moptMod\u001b[0m\u001b[0;34m[\u001b[0m\u001b[0;34m'batchSize'\u001b[0m\u001b[0;34m]\u001b[0m\u001b[0;34m]\u001b[0m\u001b[0;34m\u001b[0m\u001b[0m\n\u001b[1;32m     13\u001b[0m         [accuracy, loss] = sess.run([accuracy_operation, loss_operation], \n\u001b[0;32m---> 14\u001b[0;31m                                     feed_dict={x: batch_x, y: batch_y, keep_prob: keepRate})\n\u001b[0m\u001b[1;32m     15\u001b[0m         \u001b[0mtotal_accuracy\u001b[0m \u001b[0;34m+=\u001b[0m \u001b[0;34m(\u001b[0m\u001b[0maccuracy\u001b[0m \u001b[0;34m*\u001b[0m \u001b[0mlen\u001b[0m\u001b[0;34m(\u001b[0m\u001b[0mbatch_x\u001b[0m\u001b[0;34m)\u001b[0m\u001b[0;34m)\u001b[0m\u001b[0;34m\u001b[0m\u001b[0m\n\u001b[1;32m     16\u001b[0m         \u001b[0mtotal_loss\u001b[0m \u001b[0;34m+=\u001b[0m \u001b[0;34m(\u001b[0m\u001b[0mloss\u001b[0m \u001b[0;34m*\u001b[0m \u001b[0mlen\u001b[0m\u001b[0;34m(\u001b[0m\u001b[0mbatch_x\u001b[0m\u001b[0;34m)\u001b[0m\u001b[0;34m)\u001b[0m\u001b[0;34m\u001b[0m\u001b[0m\n",
      "\u001b[0;31mTypeError\u001b[0m: unhashable type: 'numpy.ndarray'"
     ]
    }
   ],
   "source": [
    "## Run the predictions here and use the model to output the prediction for each image.\n",
    "X_new_pre, y_new_pre = preProcess(X_new, y_new, opt)\n",
    "\n",
    "with tf.Session() as sess:\n",
    "    saver.restore(sess, tf.train.latest_checkpoint('.'))\n",
    "    [testNew_accuracy, testNew_loss] = evaluate(X_new_pre, y_new_pre, 1)\n",
    "    print(\"New festing accuracy = %.1f%%, testing loss = %.3f\" % (100*testNew_accuracy, testNew_loss))"
   ]
  },
  {
   "cell_type": "markdown",
   "metadata": {},
   "source": [
    "### Output Top 5 Softmax Probabilities For Each Image Found on the Web"
   ]
  },
  {
   "cell_type": "markdown",
   "metadata": {},
   "source": [
    "For each of the new images, print out the model's softmax probabilities to show the **certainty** of the model's predictions (limit the output to the top 5 probabilities for each image). [`tf.nn.top_k`](https://www.tensorflow.org/versions/r0.12/api_docs/python/nn.html#top_k) could prove helpful here. "
   ]
  },
  {
   "cell_type": "code",
   "execution_count": null,
   "metadata": {
    "collapsed": true
   },
   "outputs": [],
   "source": [
    "## Define helper function to print out the top ten softmax probabilities for the new test images\n",
    "def plotDemoTopK(X, y, probTopK, idxTopK, nCase):\n",
    "    \n",
    "    fig = plt.figure(figsize=(14,22))\n",
    "    fig.subplots_adjust(hspace= 0, wspace = 1)\n",
    "\n",
    "    for i in range(nCase):\n",
    "        ax = fig.add_subplot(3,3,i+1)\n",
    "        ax.imshow(X[i])\n",
    "        label = topKLabel(y[i], probTopK[i],idxTopK[i])\n",
    "        plt.xlabel(label,fontsize = 12)\n",
    "        plt.show\n",
    "        plt.savefig('examples/ClassifyExamples.png')\n",
    "\n",
    "def topKPredict(X, k_top):\n",
    "    sess = tf.get_default_session()\n",
    "    probMatrix = sess.run(tf.nn.softmax(logits), feed_dict = {x: X, keep_prob: 1.0})\n",
    "    topK = tf.nn.top_k(probMatrix, k = k_top)\n",
    "    return sess.run(topK)\n",
    "\n",
    "def topKLabel(idxCorr,prob, idx):\n",
    "    s1 = str('Correct label is ' + signData['SignName'][idxCorr] + '\\n')\n",
    "    for j in range(len(prob)):\n",
    "        s2 = (str(round(prob[j]*100,2)) + ' % being ' + signData['SignName'][idx[j]] + '\\n')\n",
    "        s1 = s1+s2\n",
    "    return s1"
   ]
  },
  {
   "cell_type": "code",
   "execution_count": null,
   "metadata": {
    "collapsed": true
   },
   "outputs": [],
   "source": [
    "nTopClass = 5\n",
    "\n",
    "with tf.Session() as sess:\n",
    "    saver.restore(sess, tf.train.latest_checkpoint('.'))\n",
    "    topK = topKPredict(X_new_pre, nTopClass)\n",
    "    \n",
    "    plotDemoTopK(X_new,y_new,topK.values, topK.indices, len(y_new))"
   ]
  },
  {
   "cell_type": "markdown",
   "metadata": {},
   "source": [
    "### Project Writeup\n",
    "\n",
    "Once you have completed the code implementation, document your results in a project writeup using this [template](https://github.com/udacity/CarND-Traffic-Sign-Classifier-Project/blob/master/writeup_template.md) as a guide. The writeup can be in a markdown or pdf file. "
   ]
  },
  {
   "cell_type": "markdown",
   "metadata": {},
   "source": [
    "> **Note**: Once you have completed all of the code implementations and successfully answered each question above, you may finalize your work by exporting the iPython Notebook as an HTML document. You can do this by using the menu above and navigating to  \\n\",\n",
    "    \"**File -> Download as -> HTML (.html)**. Include the finished document along with this notebook as your submission."
   ]
  },
  {
   "cell_type": "markdown",
   "metadata": {},
   "source": [
    "---\n",
    "\n",
    "## Step 4 (Optional): Visualize the Neural Network's State with Test Images\n",
    "\n",
    " This Section is not required to complete but acts as an additional excersise for understaning the output of a neural network's weights. While neural networks can be a great learning device they are often referred to as a black box. We can understand what the weights of a neural network look like better by plotting their feature maps. After successfully training your neural network you can see what it's feature maps look like by plotting the output of the network's weight layers in response to a test stimuli image. From these plotted feature maps, it's possible to see what characteristics of an image the network finds interesting. For a sign, maybe the inner network feature maps react with high activation to the sign's boundary outline or to the contrast in the sign's painted symbol.\n",
    "\n",
    " Provided for you below is the function code that allows you to get the visualization output of any tensorflow weight layer you want. The inputs to the function should be a stimuli image, one used during training or a new one you provided, and then the tensorflow variable name that represents the layer's state during the training process, for instance if you wanted to see what the [LeNet lab's](https://classroom.udacity.com/nanodegrees/nd013/parts/fbf77062-5703-404e-b60c-95b78b2f3f9e/modules/6df7ae49-c61c-4bb2-a23e-6527e69209ec/lessons/601ae704-1035-4287-8b11-e2c2716217ad/concepts/d4aca031-508f-4e0b-b493-e7b706120f81) feature maps looked like for it's second convolutional layer you could enter conv2 as the tf_activation variable.\n",
    "\n",
    "For an example of what feature map outputs look like, check out NVIDIA's results in their paper [End-to-End Deep Learning for Self-Driving Cars](https://devblogs.nvidia.com/parallelforall/deep-learning-self-driving-cars/) in the section Visualization of internal CNN State. NVIDIA was able to show that their network's inner weights had high activations to road boundary lines by comparing feature maps from an image with a clear path to one without. Try experimenting with a similar test to show that your trained network's weights are looking for interesting features, whether it's looking at differences in feature maps from images with or without a sign, or even what feature maps look like in a trained network vs a completely untrained one on the same sign image.\n",
    "\n",
    "<figure>\n",
    " <img src=\"visualize_cnn.png\" width=\"380\" alt=\"Combined Image\" />\n",
    " <figcaption>\n",
    " <p></p> \n",
    " <p style=\"text-align: center;\"> Your output should look something like this (above)</p> \n",
    " </figcaption>\n",
    "</figure>\n",
    " <p></p> \n"
   ]
  },
  {
   "cell_type": "code",
   "execution_count": null,
   "metadata": {
    "collapsed": true
   },
   "outputs": [],
   "source": [
    "### Visualize your network's feature maps here.\n",
    "### Feel free to use as many code cells as needed.\n",
    "\n",
    "# image_input: the test image being fed into the network to produce the feature maps\n",
    "# tf_activation: should be a tf variable name used during your training procedure that represents the calculated state of a specific weight layer\n",
    "# activation_min/max: can be used to view the activation contrast in more detail, by default matplot sets min and max to the actual min and max values of the output\n",
    "# plt_num: used to plot out multiple different weight feature map sets on the same block, just extend the plt number for each new feature map entry\n",
    "\n",
    "def outputFeatureMap(image_input, tf_activation, activation_min=-1, activation_max=-1 ,plt_num=1):\n",
    "    # Here make sure to preprocess your image_input in a way your network expects\n",
    "    # with size, normalization, ect if needed\n",
    "    # image_input =\n",
    "    # Note: x should be the same name as your network's tensorflow data placeholder variable\n",
    "    # If you get an error tf_activation is not defined it may be having trouble accessing the variable from inside a function\n",
    "    activation = tf_activation.eval(session=sess,feed_dict={x : image_input})\n",
    "    featuremaps = activation.shape[3]\n",
    "    plt.figure(plt_num, figsize=(15,15))\n",
    "    for featuremap in range(featuremaps):\n",
    "        plt.subplot(6,8, featuremap+1) # sets the number of feature maps to show on each row and column\n",
    "        plt.title('FeatureMap ' + str(featuremap)) # displays the feature map number\n",
    "        if activation_min != -1 & activation_max != -1:\n",
    "            plt.imshow(activation[0,:,:, featuremap], interpolation=\"nearest\", vmin =activation_min, vmax=activation_max, cmap=\"gray\")\n",
    "        elif activation_max != -1:\n",
    "            plt.imshow(activation[0,:,:, featuremap], interpolation=\"nearest\", vmax=activation_max, cmap=\"gray\")\n",
    "        elif activation_min !=-1:\n",
    "            plt.imshow(activation[0,:,:, featuremap], interpolation=\"nearest\", vmin=activation_min, cmap=\"gray\")\n",
    "        else:\n",
    "            plt.imshow(activation[0,:,:, featuremap], interpolation=\"nearest\", cmap=\"gray\")"
   ]
  }
 ],
 "metadata": {
  "anaconda-cloud": {},
  "kernelspec": {
   "display_name": "Python 3",
   "language": "python",
   "name": "python3"
  },
  "language_info": {
   "codemirror_mode": {
    "name": "ipython",
    "version": 3
   },
   "file_extension": ".py",
   "mimetype": "text/x-python",
   "name": "python",
   "nbconvert_exporter": "python",
   "pygments_lexer": "ipython3",
   "version": "3.5.2"
  },
  "widgets": {
   "state": {},
   "version": "1.1.2"
  }
 },
 "nbformat": 4,
 "nbformat_minor": 1
}
